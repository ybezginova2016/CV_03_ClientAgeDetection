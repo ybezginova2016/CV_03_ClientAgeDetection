{
 "cells": [
  {
   "cell_type": "markdown",
   "metadata": {},
   "source": [
    "# ***Computer Vision*** - Machine Learning Model for Supermarket Clients Age Detection\n",
    "\n",
    "## Project Description\n",
    "\n",
    "The chain supermarket includes a computer detection system for processing customer pictures taken while making a purchase at a cashier desk. Photo fixation in the checkout area will help determine the age of customers in order to:\n",
    "- analyze purchases and offer products that are of interest to buyers of this age group;\n",
    "- control the conscientiousness of cashiers when selling alcohol.\n",
    "\n",
    "\n",
    "## Project Goal\n",
    "To solve a regression problem by constructing a machine learning model, which detects an age of a customer.\n",
    "\n",
    "## Data\n",
    "The dataset of pictures and age is given in the .png and .csv formats.\n",
    "Данные взяты с сайта [ChaLearn Looking at People](http://chalearnlap.cvc.uab.es/dataset/26/description/).\n",
    "\n",
    "\n",
    "## Project Methodology\n",
    "1. Exploratory Data Analysis of the dataset.\n",
    "2. Data proprecessing for modelling.\n",
    "3. Tuning and testing a neural network, preferably **ResNet50** with an activation function **'ReLU'**, because the ReLU function does not change positive forecasts of the network, and all negative ones lead to zero. Numbers less than 0 cannot be.\n",
    "4. **Quality metric is MAE < 6.5** or MSE.\n",
    "5. For data extraction please use ImageDataGenerator —flow_from_dataframe(dataframe, directory, ...)\n",
    "\n",
    "## References\n",
    "- [Image Data Processing](https://keras.io/api/preprocessing/image/)\n"
   ]
  },
  {
   "cell_type": "code",
   "execution_count": 26,
   "metadata": {},
   "outputs": [],
   "source": [
    "import pandas as pd\n",
    "import numpy as np\n",
    "import matplotlib.pyplot as plt\n",
    "from PIL import Image\n",
    "# https://pillow.readthedocs.io/en/stable/handbook/tutorial.html\n",
    "\n",
    "from tensorflow.keras.utils import load_img\n",
    "from tensorflow.keras import Sequential\n",
    "from tensorflow.keras.optimizers import Adam\n",
    "from tensorflow.keras.layers import Conv2D, Flatten, Dense, AvgPool2D, MaxPooling2D\n",
    "from tensorflow.keras.preprocessing.image import ImageDataGenerator\n",
    "\n",
    "import warnings\n",
    "warnings.simplefilter(\"ignore\", category=RuntimeWarning)\n",
    "pd.options.mode.chained_assignment = None"
   ]
  },
  {
   "cell_type": "code",
   "execution_count": null,
   "metadata": {},
   "outputs": [],
   "source": []
  },
  {
   "cell_type": "code",
   "execution_count": null,
   "metadata": {},
   "outputs": [],
   "source": []
  },
  {
   "cell_type": "code",
   "execution_count": null,
   "metadata": {},
   "outputs": [],
   "source": []
  }
 ],
 "metadata": {
  "kernelspec": {
   "display_name": "Python 3 (ipykernel)",
   "language": "python",
   "name": "python3"
  },
  "language_info": {
   "codemirror_mode": {
    "name": "ipython",
    "version": 3
   },
   "file_extension": ".py",
   "mimetype": "text/x-python",
   "name": "python",
   "nbconvert_exporter": "python",
   "pygments_lexer": "ipython3",
   "version": "3.10.9"
  }
 },
 "nbformat": 4,
 "nbformat_minor": 1
}

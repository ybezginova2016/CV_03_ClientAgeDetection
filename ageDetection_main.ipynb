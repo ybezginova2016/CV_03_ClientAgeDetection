{
 "cells": [
  {
   "cell_type": "markdown",
   "id": "c415f57e",
   "metadata": {},
   "source": [
    "# ***Computer Vision*** - Machine Learning Model for Supermarket Clients Age Detection\n",
    "\n",
    "## Project Description\n",
    "\n",
    "The chain supermarket includes a computer detection system for processing customer pictures taken while making a purchase at a cashier desk. Photo fixation in the checkout area will help determine the age of customers in order to:  \n",
    "- analyze purchases and offer products that are of interest to buyers of this age group; \n",
    "- control the conscientiousness of cashiers when selling alcohol.\n",
    "\n",
    "\n",
    "## Project Goal\n",
    "To solve a regression problem by constructing a machine learning model, which detects an age of a customer. \n",
    "\n",
    "## Data\n",
    "The dataset of pictures and age is given in the .png and .csv formats.\n",
    "Данные взяты с сайта [ChaLearn Looking at People](http://chalearnlap.cvc.uab.es/dataset/26/description/).\n",
    "\n",
    "\n",
    "## Project Methodology\n",
    "1. Exploratory Data Analysis of the dataset.\n",
    "2. Data proprecessing for modelling.\n",
    "3. Tuning and testing a neural network, preferably **ResNet50** with an activation function **'ReLU'**, because the ReLU function does not change positive forecasts of the network, and all negative ones lead to zero. Numbers less than 0 cannot be.\n",
    "4. **Quality metric is accuracy < 6.5.**\n",
    "5. For data extraction please use ImageDataGenerator —flow_from_dataframe(dataframe, directory, ...)\n",
    "\n",
    "## References\n",
    "- [Image Data Processing](https://keras.io/api/preprocessing/image/)\n"
   ]
  },
  {
   "cell_type": "code",
   "execution_count": 6,
   "id": "387caa65",
   "metadata": {},
   "outputs": [],
   "source": [
    "import pandas as pd\n",
    "import numpy as np\n",
    "import matplotlib.pyplot as plt"
   ]
  },
  {
   "cell_type": "code",
   "execution_count": 9,
   "id": "6415bc3f",
   "metadata": {},
   "outputs": [
    {
     "name": "stdout",
     "output_type": "stream",
     "text": [
      "\u001b[31mERROR: Could not find a version that satisfies the requirement PIL (from versions: none)\u001b[0m\u001b[31m\n",
      "\u001b[0m\u001b[31mERROR: No matching distribution found for PIL\u001b[0m\u001b[31m\n",
      "\u001b[0mNote: you may need to restart the kernel to use updated packages.\n"
     ]
    }
   ],
   "source": [
    "pip install --upgrade PIL"
   ]
  },
  {
   "cell_type": "code",
   "execution_count": 7,
   "id": "e9ad0127",
   "metadata": {},
   "outputs": [
    {
     "ename": "SyntaxError",
     "evalue": "invalid syntax (pywrap_tensorflow_internal.py, line 114)",
     "output_type": "error",
     "traceback": [
      "Traceback \u001b[0;36m(most recent call last)\u001b[0m:\n",
      "\u001b[0m  File \u001b[1;32m/usr/local/opt/ipython/libexec/lib/python3.10/site-packages/IPython/core/interactiveshell.py:3433\u001b[0m in \u001b[1;35mrun_code\u001b[0m\n    exec(code_obj, self.user_global_ns, self.user_ns)\u001b[0m\n",
      "\u001b[0m  Cell \u001b[1;32mIn[7], line 2\u001b[0m\n    from keras.preprocessing.image import load_img\u001b[0m\n",
      "\u001b[0m  File \u001b[1;32m/usr/local/lib/python3.10/site-packages/keras/__init__.py:21\u001b[0m\n    from keras import models\u001b[0m\n",
      "\u001b[0m  File \u001b[1;32m/usr/local/lib/python3.10/site-packages/keras/models/__init__.py:18\u001b[0m\n    from keras.engine.functional import Functional\u001b[0m\n",
      "\u001b[0m  File \u001b[1;32m/usr/local/lib/python3.10/site-packages/keras/engine/functional.py:24\u001b[0m\n    import tensorflow.compat.v2 as tf\u001b[0m\n",
      "\u001b[0m  File \u001b[1;32m/usr/local/lib/python3.10/site-packages/tensorflow/__init__.py:24\u001b[0m\n    from tensorflow.python import pywrap_tensorflow  # pylint: disable=unused-import\u001b[0m\n",
      "\u001b[0m  File \u001b[1;32m/usr/local/lib/python3.10/site-packages/tensorflow/python/__init__.py:49\u001b[0m\n    from tensorflow.python import pywrap_tensorflow\u001b[0m\n",
      "\u001b[0;36m  File \u001b[0;32m/usr/local/lib/python3.10/site-packages/tensorflow/python/pywrap_tensorflow.py:58\u001b[0;36m\n\u001b[0;31m    from tensorflow.python.pywrap_tensorflow_internal import *\u001b[0;36m\n",
      "\u001b[0;36m  File \u001b[0;32m/usr/local/lib/python3.10/site-packages/tensorflow/python/pywrap_tensorflow_internal.py:114\u001b[0;36m\u001b[0m\n\u001b[0;31m    def TFE_ContextOptionsSetAsync(arg1, async):\u001b[0m\n\u001b[0m                                         ^\u001b[0m\n\u001b[0;31mSyntaxError\u001b[0m\u001b[0;31m:\u001b[0m invalid syntax\n"
     ]
    }
   ],
   "source": [
    "from PIL import Image\n",
    "from keras.preprocessing.image import load_img\n",
    "from tensorflow.keras import Sequential\n",
    "from tensorflow.keras.optimizers import Adam\n",
    "from tensorflow.keras.layers import Conv2D, Flatten, Dense, AvgPool2D, MaxPooling2D\n",
    "from tensorflow.keras.preprocessing.image import ImageDataGenerator\n",
    "\n",
    "import warnings\n",
    "warnings.simplefilter(\"ignore\", category=RuntimeWarning)\n",
    "pd.options.mode.chained_assignment = None"
   ]
  },
  {
   "cell_type": "code",
   "execution_count": null,
   "id": "aa63dc9b",
   "metadata": {},
   "outputs": [],
   "source": []
  },
  {
   "cell_type": "code",
   "execution_count": null,
   "id": "667fb7e9",
   "metadata": {},
   "outputs": [],
   "source": []
  }
 ],
 "metadata": {
  "kernelspec": {
   "display_name": "Python 3 (ipykernel)",
   "language": "python",
   "name": "python3"
  },
  "language_info": {
   "codemirror_mode": {
    "name": "ipython",
    "version": 3
   },
   "file_extension": ".py",
   "mimetype": "text/x-python",
   "name": "python",
   "nbconvert_exporter": "python",
   "pygments_lexer": "ipython3",
   "version": "3.10.9"
  }
 },
 "nbformat": 4,
 "nbformat_minor": 5
}
